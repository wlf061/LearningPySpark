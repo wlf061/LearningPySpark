{
 "cells": [
  {
   "cell_type": "code",
   "execution_count": null,
   "metadata": {},
   "outputs": [],
   "source": [
    "from pyspark.sql import DataFrame\n",
    "from pyspark.sql import SparkSession"
   ]
  },
  {
   "cell_type": "code",
   "execution_count": null,
   "metadata": {},
   "outputs": [],
   "source": [
    "spark = SparkSession.builder.appName('my_first_app_name').getOrCreate()"
   ]
  },
  {
   "cell_type": "code",
   "execution_count": null,
   "metadata": {},
   "outputs": [],
   "source": [
    "stringCSVRDD = spark.sparkContext.parallelize([\n",
    "    (123, \"490654 | 49065410 | 12476694 | 2019-06-26 | - | 2 | FPLOSRate | Success | Close:true, Ticket:50c82efe0944000e\"),\n",
    "    (234, \"490654 | 49065410 | 12476694 | 2019-06-26 | 4N | 2 | FPLOSRate | Success | Close:true, Ticket:50c82efe0944000e\"),\n",
    "    (345, \"490654 | 49065410 | 12476694 | 2019-06-26 | 4N | 2 | FPLOSRate | Success | Close:true, Ticket:50c82efe0944000e\"),\n",
    "    (345, \"490656 | 49065410 | 12476694 | 2019-06-26 | 4N | 2 | FPLOSRate | Success | Close:true, Ticket:50c82efe0944000e\"),\n",
    "    (345, \"490656 | 49065410 | 12476694 | 2019-06-26 | 4N | 2 | FPLOSRate | Success | Close:true, Ticket:50c82efe0944000e\"),\n",
    "    (345, \"490656 | 49065410 | 12476694 | 2019-06-26 | 4N | 2 | FPLOSRate | Success | Close:true, Ticket:50c82efe0944000e\"),\n",
    "    (345, \"490657 | 49065410 | 12476694 | 2019-06-26 | 4N | 2 | FPLOSRate | Success | Close:true, Ticket:50c82efe0944000e\"),\n",
    "    (345, \"490658 | 49065410 | 12476694 | 2019-06-26 | 4N | 2 | FPLOSRate | Success | Close:true, Ticket:50c82efe0944000e\")\n",
    "])"
   ]
  },
  {
   "cell_type": "code",
   "execution_count": 142,
   "metadata": {},
   "outputs": [],
   "source": [
    "from pyspark.sql.types import StructType, StructField, LongType, StringType"
   ]
  },
  {
   "cell_type": "code",
   "execution_count": 143,
   "metadata": {},
   "outputs": [],
   "source": [
    "schema = StructType([\n",
    "    StructField(\"id\", LongType(), True),\n",
    "    StructField(\"name\", StringType(), True)\n",
    "])"
   ]
  },
  {
   "cell_type": "code",
   "execution_count": 144,
   "metadata": {},
   "outputs": [],
   "source": [
    "swimmers = spark.createDataFrame(stringCSVRDD,schema)"
   ]
  },
  {
   "cell_type": "code",
   "execution_count": 145,
   "metadata": {},
   "outputs": [],
   "source": [
    "swimmers.registerTempTable(\"swimmers\")"
   ]
  },
  {
   "cell_type": "code",
   "execution_count": 146,
   "metadata": {},
   "outputs": [],
   "source": [
    "from pyspark.sql.functions import split,udf,trim"
   ]
  },
  {
   "cell_type": "code",
   "execution_count": 147,
   "metadata": {},
   "outputs": [],
   "source": [
    "split_col = split(swimmers['name'], '\\|')\n",
    "\n",
    "swimmers = swimmers.withColumn('hotel', trim(split_col.getItem(0)))\n",
    "swimmers = swimmers.withColumn('room_type', trim(split_col.getItem(1)))\n",
    "swimmers = swimmers.withColumn('rate_plan', trim(split_col.getItem(2)))\n",
    "swimmers = swimmers.withColumn('date', trim(split_col.getItem(3)))\n",
    "swimmers = swimmers.withColumn('los', trim(split_col.getItem(4)))\n",
    "swimmers = swimmers.withColumn('guest', trim(split_col.getItem(5)))\n",
    "swimmers = swimmers.withColumn('event', trim(split_col.getItem(6)))\n",
    "swimmers = swimmers.withColumn('result', trim(split_col.getItem(7)))\n",
    "swimmers = swimmers.withColumn('event_detail', trim(split_col.getItem(8)))\n",
    "swimmers = swimmers.withColumn('test', trim(split_col.getItem(9)))"
   ]
  },
  {
   "cell_type": "code",
   "execution_count": 148,
   "metadata": {},
   "outputs": [
    {
     "data": {
      "text/plain": [
       "[Row(id=123, name='490654 | 49065410 | 12476694 | 2019-06-26 |  | 2 | FPLOSRate | Success | Close:true, Ticket:50c82efe0944000e', hotel='490654', room_type='49065410', rate_plan='12476694', date='2019-06-26', los='', guest='2', event='FPLOSRate', result='Success', event_detail='Close:true, Ticket:50c82efe0944000e', test=None),\n",
       " Row(id=234, name='490654 | 49065410 | 12476694 | 2019-06-26 | 4N | 2 | FPLOSRate | Success | Close:true, Ticket:50c82efe0944000e', hotel='490654', room_type='49065410', rate_plan='12476694', date='2019-06-26', los='4N', guest='2', event='FPLOSRate', result='Success', event_detail='Close:true, Ticket:50c82efe0944000e', test=None),\n",
       " Row(id=345, name='490654 | 49065410 | 12476694 | 2019-06-26 | 4N | 2 | FPLOSRate | Success | Close:true, Ticket:50c82efe0944000e', hotel='490654', room_type='49065410', rate_plan='12476694', date='2019-06-26', los='4N', guest='2', event='FPLOSRate', result='Success', event_detail='Close:true, Ticket:50c82efe0944000e', test=None),\n",
       " Row(id=345, name='490656 | 49065410 | 12476694 | 2019-06-26 | 4N | 2 | FPLOSRate | Success | Close:true, Ticket:50c82efe0944000e', hotel='490656', room_type='49065410', rate_plan='12476694', date='2019-06-26', los='4N', guest='2', event='FPLOSRate', result='Success', event_detail='Close:true, Ticket:50c82efe0944000e', test=None),\n",
       " Row(id=345, name='490656 | 49065410 | 12476694 | 2019-06-26 | 4N | 2 | FPLOSRate | Success | Close:true, Ticket:50c82efe0944000e', hotel='490656', room_type='49065410', rate_plan='12476694', date='2019-06-26', los='4N', guest='2', event='FPLOSRate', result='Success', event_detail='Close:true, Ticket:50c82efe0944000e', test=None),\n",
       " Row(id=345, name='490656 | 49065410 | 12476694 | 2019-06-26 | 4N | 2 | FPLOSRate | Success | Close:true, Ticket:50c82efe0944000e', hotel='490656', room_type='49065410', rate_plan='12476694', date='2019-06-26', los='4N', guest='2', event='FPLOSRate', result='Success', event_detail='Close:true, Ticket:50c82efe0944000e', test=None),\n",
       " Row(id=345, name='490657 | 49065410 | 12476694 | 2019-06-26 | 4N | 2 | FPLOSRate | Success | Close:true, Ticket:50c82efe0944000e', hotel='490657', room_type='49065410', rate_plan='12476694', date='2019-06-26', los='4N', guest='2', event='FPLOSRate', result='Success', event_detail='Close:true, Ticket:50c82efe0944000e', test=None),\n",
       " Row(id=345, name='490658 | 49065410 | 12476694 | 2019-06-26 | 4N | 2 | FPLOSRate | Success | Close:true, Ticket:50c82efe0944000e', hotel='490658', room_type='49065410', rate_plan='12476694', date='2019-06-26', los='4N', guest='2', event='FPLOSRate', result='Success', event_detail='Close:true, Ticket:50c82efe0944000e', test=None)]"
      ]
     },
     "execution_count": 148,
     "metadata": {},
     "output_type": "execute_result"
    }
   ],
   "source": [
    "swimmers.head(10)"
   ]
  },
  {
   "cell_type": "code",
   "execution_count": null,
   "metadata": {},
   "outputs": [
    {
     "data": {
      "text/plain": [
       "<pyspark.sql.group.GroupedData at 0xe7c7710>"
      ]
     },
     "execution_count": 163,
     "metadata": {},
     "output_type": "execute_result"
    }
   ],
   "source": [
    "swimmers.groupby(swimmers.name)"
   ]
  },
  {
   "cell_type": "code",
   "execution_count": 165,
   "metadata": {},
   "outputs": [],
   "source": [
    "row_list = swimmers.groupby(swimmers.hotel).count().collect()"
   ]
  },
  {
   "cell_type": "code",
   "execution_count": 161,
   "metadata": {},
   "outputs": [],
   "source": [
    "def write_hotel_data(hotel_log_item):\n",
    "    print(hotel_log_item.hotel)"
   ]
  },
  {
   "cell_type": "code",
   "execution_count": null,
   "metadata": {},
   "outputs": [
    {
     "name": "stdout",
     "output_type": "stream",
     "text": [
      "[Row(id=345, name='490657 | 49065410 | 12476694 | 2019-06-26 | 4N | 2 | FPLOSRate | Success | Close:true, Ticket:50c82efe0944000e', hotel='490657', room_type='49065410', rate_plan='12476694', date='2019-06-26', los='4N', guest='2', event='FPLOSRate', result='Success', event_detail='Close:true, Ticket:50c82efe0944000e', test=None)]\n",
      "===============================================\n",
      "[Row(id=345, name='490658 | 49065410 | 12476694 | 2019-06-26 | 4N | 2 | FPLOSRate | Success | Close:true, Ticket:50c82efe0944000e', hotel='490658', room_type='49065410', rate_plan='12476694', date='2019-06-26', los='4N', guest='2', event='FPLOSRate', result='Success', event_detail='Close:true, Ticket:50c82efe0944000e', test=None)]\n",
      "===============================================\n",
      "[Row(id=123, name='490654 | 49065410 | 12476694 | 2019-06-26 |  | 2 | FPLOSRate | Success | Close:true, Ticket:50c82efe0944000e', hotel='490654', room_type='49065410', rate_plan='12476694', date='2019-06-26', los='', guest='2', event='FPLOSRate', result='Success', event_detail='Close:true, Ticket:50c82efe0944000e', test=None), Row(id=234, name='490654 | 49065410 | 12476694 | 2019-06-26 | 4N | 2 | FPLOSRate | Success | Close:true, Ticket:50c82efe0944000e', hotel='490654', room_type='49065410', rate_plan='12476694', date='2019-06-26', los='4N', guest='2', event='FPLOSRate', result='Success', event_detail='Close:true, Ticket:50c82efe0944000e', test=None), Row(id=345, name='490654 | 49065410 | 12476694 | 2019-06-26 | 4N | 2 | FPLOSRate | Success | Close:true, Ticket:50c82efe0944000e', hotel='490654', room_type='49065410', rate_plan='12476694', date='2019-06-26', los='4N', guest='2', event='FPLOSRate', result='Success', event_detail='Close:true, Ticket:50c82efe0944000e', test=None)]\n",
      "===============================================\n",
      "[Row(id=345, name='490656 | 49065410 | 12476694 | 2019-06-26 | 4N | 2 | FPLOSRate | Success | Close:true, Ticket:50c82efe0944000e', hotel='490656', room_type='49065410', rate_plan='12476694', date='2019-06-26', los='4N', guest='2', event='FPLOSRate', result='Success', event_detail='Close:true, Ticket:50c82efe0944000e', test=None), Row(id=345, name='490656 | 49065410 | 12476694 | 2019-06-26 | 4N | 2 | FPLOSRate | Success | Close:true, Ticket:50c82efe0944000e', hotel='490656', room_type='49065410', rate_plan='12476694', date='2019-06-26', los='4N', guest='2', event='FPLOSRate', result='Success', event_detail='Close:true, Ticket:50c82efe0944000e', test=None), Row(id=345, name='490656 | 49065410 | 12476694 | 2019-06-26 | 4N | 2 | FPLOSRate | Success | Close:true, Ticket:50c82efe0944000e', hotel='490656', room_type='49065410', rate_plan='12476694', date='2019-06-26', los='4N', guest='2', event='FPLOSRate', result='Success', event_detail='Close:true, Ticket:50c82efe0944000e', test=None)]\n",
      "===============================================\n"
     ]
    }
   ],
   "source": [
    "for item in row_list:\n",
    "    #print(i['hotel'])\n",
    "    print(swimmers.where(swimmers.hotel == item['hotel']).head(10))\n",
    "    print(\"===============================================\")"
   ]
  },
  {
   "cell_type": "code",
   "execution_count": 162,
   "metadata": {},
   "outputs": [],
   "source": [
    "swimmers.groupby(swimmers.hotel).count().foreach(write_hotel_data)"
   ]
  },
  {
   "cell_type": "code",
   "execution_count": 158,
   "metadata": {},
   "outputs": [
    {
     "data": {
      "text/plain": [
       "[Row(id=345, name='490657 | 49065410 | 12476694 | 2019-06-26 | 4N | 2 | FPLOSRate | Success | Close:true, Ticket:50c82efe0944000e', hotel='490657', room_type='49065410', rate_plan='12476694', date='2019-06-26', los='4N', guest='2', event='FPLOSRate', result='Success', event_detail='Close:true, Ticket:50c82efe0944000e', test=None)]"
      ]
     },
     "execution_count": 158,
     "metadata": {},
     "output_type": "execute_result"
    }
   ],
   "source": [
    "swimmers.where(swimmers.hotel == swimmers.groupby(swimmers.hotel).count().collect()[0]['hotel']).collect()"
   ]
  },
  {
   "cell_type": "code",
   "execution_count": null,
   "metadata": {},
   "outputs": [],
   "source": [
    "swimmers.where(df.age == 2)"
   ]
  },
  {
   "cell_type": "code",
   "execution_count": 177,
   "metadata": {},
   "outputs": [
    {
     "data": {
      "text/plain": [
       "'490654'"
      ]
     },
     "execution_count": 177,
     "metadata": {},
     "output_type": "execute_result"
    }
   ],
   "source": [
    "swimmers.take(1)[0]['hotel'] "
   ]
  },
  {
   "cell_type": "code",
   "execution_count": null,
   "metadata": {},
   "outputs": [],
   "source": []
  }
 ],
 "metadata": {
  "kernelspec": {
   "display_name": "Python 3",
   "language": "python",
   "name": "python3"
  },
  "language_info": {
   "codemirror_mode": {
    "name": "ipython",
    "version": 3
   },
   "file_extension": ".py",
   "mimetype": "text/x-python",
   "name": "python",
   "nbconvert_exporter": "python",
   "pygments_lexer": "ipython3",
   "version": "3.6.1"
  }
 },
 "nbformat": 4,
 "nbformat_minor": 2
}
